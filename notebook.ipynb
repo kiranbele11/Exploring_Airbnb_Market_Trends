{
 "cells": [
  {
   "cell_type": "code",
   "execution_count": 3,
   "id": "1fdc5784-479e-46cb-b05b-68439dcc94a7",
   "metadata": {
    "executionCancelledAt": null,
    "executionTime": null,
    "lastExecutedAt": null,
    "lastExecutedByKernel": null,
    "lastScheduledRunId": null,
    "lastSuccessfullyExecutedCode": null,
    "outputsMetadata": {
     "0": {
      "height": 50,
      "tableState": {
       "customFilter": {
        "const": {
         "type": "boolean",
         "valid": true,
         "value": true
        },
        "id": "9b45b529-06d8-40b3-8c02-720b7bbf972d",
        "nodeType": "const"
       },
       "quickFilterText": ""
      },
      "type": "dataFrame"
     }
    }
   },
   "outputs": [
    {
     "data": {
      "application/com.datacamp.data-table.v2+json": {
       "table": {
        "data": {
         "index": [
          0,
          1,
          2,
          3,
          4
         ],
         "listing_id": [
          2595,
          3831,
          5099,
          5178,
          5238
         ],
         "nbhood_full": [
          "Manhattan, Midtown",
          "Brooklyn, Clinton Hill",
          "Manhattan, Murray Hill",
          "Manhattan, Hell's Kitchen",
          "Manhattan, Chinatown"
         ],
         "price": [
          "225 dollars",
          "89 dollars",
          "200 dollars",
          "79 dollars",
          "150 dollars"
         ]
        },
        "schema": {
         "fields": [
          {
           "name": "index",
           "type": "integer"
          },
          {
           "name": "listing_id",
           "type": "integer"
          },
          {
           "name": "price",
           "type": "string"
          },
          {
           "name": "nbhood_full",
           "type": "string"
          }
         ],
         "pandas_version": "1.4.0",
         "primaryKey": [
          "index"
         ]
        }
       },
       "total_rows": 5,
       "truncation_type": null
      },
      "text/html": [
       "<div>\n",
       "<style scoped>\n",
       "    .dataframe tbody tr th:only-of-type {\n",
       "        vertical-align: middle;\n",
       "    }\n",
       "\n",
       "    .dataframe tbody tr th {\n",
       "        vertical-align: top;\n",
       "    }\n",
       "\n",
       "    .dataframe thead th {\n",
       "        text-align: right;\n",
       "    }\n",
       "</style>\n",
       "<table border=\"1\" class=\"dataframe\">\n",
       "  <thead>\n",
       "    <tr style=\"text-align: right;\">\n",
       "      <th></th>\n",
       "      <th>listing_id</th>\n",
       "      <th>price</th>\n",
       "      <th>nbhood_full</th>\n",
       "    </tr>\n",
       "  </thead>\n",
       "  <tbody>\n",
       "    <tr>\n",
       "      <th>0</th>\n",
       "      <td>2595</td>\n",
       "      <td>225 dollars</td>\n",
       "      <td>Manhattan, Midtown</td>\n",
       "    </tr>\n",
       "    <tr>\n",
       "      <th>1</th>\n",
       "      <td>3831</td>\n",
       "      <td>89 dollars</td>\n",
       "      <td>Brooklyn, Clinton Hill</td>\n",
       "    </tr>\n",
       "    <tr>\n",
       "      <th>2</th>\n",
       "      <td>5099</td>\n",
       "      <td>200 dollars</td>\n",
       "      <td>Manhattan, Murray Hill</td>\n",
       "    </tr>\n",
       "    <tr>\n",
       "      <th>3</th>\n",
       "      <td>5178</td>\n",
       "      <td>79 dollars</td>\n",
       "      <td>Manhattan, Hell's Kitchen</td>\n",
       "    </tr>\n",
       "    <tr>\n",
       "      <th>4</th>\n",
       "      <td>5238</td>\n",
       "      <td>150 dollars</td>\n",
       "      <td>Manhattan, Chinatown</td>\n",
       "    </tr>\n",
       "  </tbody>\n",
       "</table>\n",
       "</div>"
      ],
      "text/plain": [
       "   listing_id        price                nbhood_full\n",
       "0        2595  225 dollars         Manhattan, Midtown\n",
       "1        3831   89 dollars     Brooklyn, Clinton Hill\n",
       "2        5099  200 dollars     Manhattan, Murray Hill\n",
       "3        5178   79 dollars  Manhattan, Hell's Kitchen\n",
       "4        5238  150 dollars       Manhattan, Chinatown"
      ]
     },
     "execution_count": 3,
     "metadata": {},
     "output_type": "execute_result"
    }
   ],
   "source": [
    "# Import necessary packages\n",
    "import pandas as pd\n",
    "import numpy as np\n",
    "\n",
    "# Importing CSV for prices\n",
    "A_price = pd.read_csv(\"data/airbnb_price.csv\")\n",
    "A_price.head()"
   ]
  },
  {
   "cell_type": "code",
   "execution_count": 5,
   "id": "89628528-d082-499a-a1f3-7a79d019d2d3",
   "metadata": {
    "executionCancelledAt": null,
    "executionTime": null,
    "lastExecutedAt": null,
    "lastExecutedByKernel": null,
    "lastScheduledRunId": null,
    "lastSuccessfullyExecutedCode": null,
    "outputsMetadata": {
     "0": {
      "height": 50,
      "tableState": {
       "customFilter": {
        "const": {
         "type": "boolean",
         "valid": true,
         "value": true
        },
        "id": "7dd75ead-c060-4e5f-b99c-43bd9bccdbda",
        "nodeType": "const"
       },
       "quickFilterText": ""
      },
      "type": "dataFrame"
     }
    }
   },
   "outputs": [
    {
     "data": {
      "application/com.datacamp.data-table.v2+json": {
       "table": {
        "data": {
         "description": [
          "Skylit Midtown Castle",
          "Cozy Entire Floor of Brownstone",
          "Large Cozy 1 BR Apartment In Midtown East",
          "Large Furnished Room Near B'way",
          "Cute & Cozy Lower East Side 1 bdrm"
         ],
         "index": [
          0,
          1,
          2,
          3,
          4
         ],
         "listing_id": [
          2595,
          3831,
          5099,
          5178,
          5238
         ],
         "room_type": [
          "Entire home/apt",
          "Entire home/apt",
          "Entire home/apt",
          "private room",
          "Entire home/apt"
         ]
        },
        "schema": {
         "fields": [
          {
           "name": "index",
           "type": "integer"
          },
          {
           "name": "listing_id",
           "type": "integer"
          },
          {
           "name": "description",
           "type": "string"
          },
          {
           "name": "room_type",
           "type": "string"
          }
         ],
         "pandas_version": "1.4.0",
         "primaryKey": [
          "index"
         ]
        }
       },
       "total_rows": 5,
       "truncation_type": null
      },
      "text/html": [
       "<div>\n",
       "<style scoped>\n",
       "    .dataframe tbody tr th:only-of-type {\n",
       "        vertical-align: middle;\n",
       "    }\n",
       "\n",
       "    .dataframe tbody tr th {\n",
       "        vertical-align: top;\n",
       "    }\n",
       "\n",
       "    .dataframe thead th {\n",
       "        text-align: right;\n",
       "    }\n",
       "</style>\n",
       "<table border=\"1\" class=\"dataframe\">\n",
       "  <thead>\n",
       "    <tr style=\"text-align: right;\">\n",
       "      <th></th>\n",
       "      <th>listing_id</th>\n",
       "      <th>description</th>\n",
       "      <th>room_type</th>\n",
       "    </tr>\n",
       "  </thead>\n",
       "  <tbody>\n",
       "    <tr>\n",
       "      <th>0</th>\n",
       "      <td>2595</td>\n",
       "      <td>Skylit Midtown Castle</td>\n",
       "      <td>Entire home/apt</td>\n",
       "    </tr>\n",
       "    <tr>\n",
       "      <th>1</th>\n",
       "      <td>3831</td>\n",
       "      <td>Cozy Entire Floor of Brownstone</td>\n",
       "      <td>Entire home/apt</td>\n",
       "    </tr>\n",
       "    <tr>\n",
       "      <th>2</th>\n",
       "      <td>5099</td>\n",
       "      <td>Large Cozy 1 BR Apartment In Midtown East</td>\n",
       "      <td>Entire home/apt</td>\n",
       "    </tr>\n",
       "    <tr>\n",
       "      <th>3</th>\n",
       "      <td>5178</td>\n",
       "      <td>Large Furnished Room Near B'way</td>\n",
       "      <td>private room</td>\n",
       "    </tr>\n",
       "    <tr>\n",
       "      <th>4</th>\n",
       "      <td>5238</td>\n",
       "      <td>Cute &amp; Cozy Lower East Side 1 bdrm</td>\n",
       "      <td>Entire home/apt</td>\n",
       "    </tr>\n",
       "  </tbody>\n",
       "</table>\n",
       "</div>"
      ],
      "text/plain": [
       "   listing_id                                description        room_type\n",
       "0        2595                      Skylit Midtown Castle  Entire home/apt\n",
       "1        3831            Cozy Entire Floor of Brownstone  Entire home/apt\n",
       "2        5099  Large Cozy 1 BR Apartment In Midtown East  Entire home/apt\n",
       "3        5178            Large Furnished Room Near B'way     private room\n",
       "4        5238         Cute & Cozy Lower East Side 1 bdrm  Entire home/apt"
      ]
     },
     "execution_count": 5,
     "metadata": {},
     "output_type": "execute_result"
    }
   ],
   "source": [
    "#Importing Excel file for types of room\n",
    "A_roomtype = pd.read_excel(\"data/airbnb_room_type.xlsx\")\n",
    "A_roomtype.head()"
   ]
  },
  {
   "cell_type": "code",
   "execution_count": 14,
   "id": "11fd0856-85f2-4f1b-a24c-70919ee98a0a",
   "metadata": {
    "executionCancelledAt": null,
    "executionTime": 48,
    "lastExecutedAt": 1733942223429,
    "lastExecutedByKernel": "c588e8af-b9da-43a1-8eb6-1c588e045216",
    "lastScheduledRunId": null,
    "lastSuccessfullyExecutedCode": "# Importing TSV file for date reviews\nA_last_reviews = pd.read_csv(\"data/airbnb_last_review.tsv\", sep='\\t')\nA_last_reviews.head()",
    "outputsMetadata": {
     "0": {
      "height": 245,
      "tableState": {
       "customFilter": {
        "const": {
         "type": "boolean",
         "valid": true,
         "value": true
        },
        "id": "9b45b529-06d8-40b3-8c02-720b7bbf972d",
        "nodeType": "const"
       },
       "quickFilterText": ""
      },
      "type": "dataFrame"
     }
    }
   },
   "outputs": [
    {
     "data": {
      "application/com.datacamp.data-table.v2+json": {
       "table": {
        "data": {
         "host_name": [
          "Jennifer",
          "LisaRoxanne",
          "Chris",
          "Shunichi",
          "Ben"
         ],
         "index": [
          0,
          1,
          2,
          3,
          4
         ],
         "last_review": [
          "May 21 2019",
          "July 05 2019",
          "June 22 2019",
          "June 24 2019",
          "June 09 2019"
         ],
         "listing_id": [
          2595,
          3831,
          5099,
          5178,
          5238
         ]
        },
        "schema": {
         "fields": [
          {
           "name": "index",
           "type": "integer"
          },
          {
           "name": "listing_id",
           "type": "integer"
          },
          {
           "name": "host_name",
           "type": "string"
          },
          {
           "name": "last_review",
           "type": "string"
          }
         ],
         "pandas_version": "1.4.0",
         "primaryKey": [
          "index"
         ]
        }
       },
       "total_rows": 5,
       "truncation_type": null
      },
      "text/html": [
       "<div>\n",
       "<style scoped>\n",
       "    .dataframe tbody tr th:only-of-type {\n",
       "        vertical-align: middle;\n",
       "    }\n",
       "\n",
       "    .dataframe tbody tr th {\n",
       "        vertical-align: top;\n",
       "    }\n",
       "\n",
       "    .dataframe thead th {\n",
       "        text-align: right;\n",
       "    }\n",
       "</style>\n",
       "<table border=\"1\" class=\"dataframe\">\n",
       "  <thead>\n",
       "    <tr style=\"text-align: right;\">\n",
       "      <th></th>\n",
       "      <th>listing_id</th>\n",
       "      <th>host_name</th>\n",
       "      <th>last_review</th>\n",
       "    </tr>\n",
       "  </thead>\n",
       "  <tbody>\n",
       "    <tr>\n",
       "      <th>0</th>\n",
       "      <td>2595</td>\n",
       "      <td>Jennifer</td>\n",
       "      <td>May 21 2019</td>\n",
       "    </tr>\n",
       "    <tr>\n",
       "      <th>1</th>\n",
       "      <td>3831</td>\n",
       "      <td>LisaRoxanne</td>\n",
       "      <td>July 05 2019</td>\n",
       "    </tr>\n",
       "    <tr>\n",
       "      <th>2</th>\n",
       "      <td>5099</td>\n",
       "      <td>Chris</td>\n",
       "      <td>June 22 2019</td>\n",
       "    </tr>\n",
       "    <tr>\n",
       "      <th>3</th>\n",
       "      <td>5178</td>\n",
       "      <td>Shunichi</td>\n",
       "      <td>June 24 2019</td>\n",
       "    </tr>\n",
       "    <tr>\n",
       "      <th>4</th>\n",
       "      <td>5238</td>\n",
       "      <td>Ben</td>\n",
       "      <td>June 09 2019</td>\n",
       "    </tr>\n",
       "  </tbody>\n",
       "</table>\n",
       "</div>"
      ],
      "text/plain": [
       "   listing_id    host_name   last_review\n",
       "0        2595     Jennifer   May 21 2019\n",
       "1        3831  LisaRoxanne  July 05 2019\n",
       "2        5099        Chris  June 22 2019\n",
       "3        5178     Shunichi  June 24 2019\n",
       "4        5238          Ben  June 09 2019"
      ]
     },
     "execution_count": 14,
     "metadata": {},
     "output_type": "execute_result"
    }
   ],
   "source": [
    "# Importing TSV file for date reviews\n",
    "A_last_reviews = pd.read_csv(\"data/airbnb_last_review.tsv\", sep='\\t')\n",
    "A_last_reviews.head()"
   ]
  },
  {
   "cell_type": "code",
   "execution_count": 7,
   "id": "c6d0c605-9ccf-4ecc-af76-018c24ba1116",
   "metadata": {
    "executionCancelledAt": null,
    "executionTime": 28,
    "lastExecutedAt": 1733941837764,
    "lastExecutedByKernel": "c588e8af-b9da-43a1-8eb6-1c588e045216",
    "lastScheduledRunId": null,
    "lastSuccessfullyExecutedCode": "# Joining the three data frames into one\nlistings = pd.merge(A_price, A_roomtype, on='listing_id')\nlistings = pd.merge(listings,A_last_reviews, on='listing_id')"
   },
   "outputs": [],
   "source": [
    "# Joining the three data frames into one\n",
    "listings = pd.merge(A_price, A_roomtype, on='listing_id')\n",
    "listings = pd.merge(listings,A_last_reviews, on='listing_id')"
   ]
  },
  {
   "cell_type": "markdown",
   "id": "8c102ffb-be72-42cf-8587-d22633cb1ab6",
   "metadata": {},
   "source": [
    "# What are the dates of the earliest and most recent reviews?"
   ]
  },
  {
   "cell_type": "code",
   "execution_count": 8,
   "id": "56d218ea-aea2-4ae3-bdc9-cea6f7331736",
   "metadata": {
    "executionCancelledAt": null,
    "executionTime": 19,
    "lastExecutedAt": 1733941843115,
    "lastExecutedByKernel": "c588e8af-b9da-43a1-8eb6-1c588e045216",
    "lastScheduledRunId": null,
    "lastSuccessfullyExecutedCode": "# To use a function like max()/min() on last_review date column, it needs to be converted to datetime type\nlistings['last_review_date'] = pd.to_datetime(listings['last_review'], format='%B %d %Y')\nfirst_reviewed = listings['last_review_date'].min()\nlast_reviewed = listings['last_review_date'].max()"
   },
   "outputs": [],
   "source": [
    "# To use a function like max()/min() on last_review date column, it needs to be converted to datetime type\n",
    "listings['last_review_date'] = pd.to_datetime(listings['last_review'], format='%B %d %Y')\n",
    "first_reviewed = listings['last_review_date'].min()\n",
    "last_reviewed = listings['last_review_date'].max()"
   ]
  },
  {
   "cell_type": "code",
   "execution_count": 9,
   "id": "1f116977-1b1d-45ef-a351-0848d804cf95",
   "metadata": {
    "executionCancelledAt": null,
    "executionTime": 54,
    "lastExecutedAt": 1733941848261,
    "lastExecutedByKernel": "c588e8af-b9da-43a1-8eb6-1c588e045216",
    "lastScheduledRunId": null,
    "lastSuccessfullyExecutedCode": "print(\"The date of most earliest reviews is\",first_reviewed)",
    "outputsMetadata": {
     "0": {
      "height": 38,
      "type": "stream"
     }
    }
   },
   "outputs": [
    {
     "name": "stdout",
     "output_type": "stream",
     "text": [
      "The date of most earliest reviews is 2019-01-01 00:00:00\n"
     ]
    }
   ],
   "source": [
    "print(\"The date of most earliest reviews is\",first_reviewed)"
   ]
  },
  {
   "cell_type": "code",
   "execution_count": 10,
   "id": "71f297b7-40ce-4fda-963a-710d653c4830",
   "metadata": {
    "executionCancelledAt": null,
    "executionTime": 13,
    "lastExecutedAt": 1733941851225,
    "lastExecutedByKernel": "c588e8af-b9da-43a1-8eb6-1c588e045216",
    "lastScheduledRunId": null,
    "lastSuccessfullyExecutedCode": "print(\"The date of most recent review is\",last_reviewed)",
    "outputsMetadata": {
     "0": {
      "height": 38,
      "type": "stream"
     }
    }
   },
   "outputs": [
    {
     "name": "stdout",
     "output_type": "stream",
     "text": [
      "The date of most recent review is 2019-07-09 00:00:00\n"
     ]
    }
   ],
   "source": [
    "print(\"The date of most recent review is\",last_reviewed)"
   ]
  },
  {
   "cell_type": "markdown",
   "id": "6959de52-81aa-495f-93ad-49988c3f5740",
   "metadata": {},
   "source": [
    "# How many of the listings are private rooms?"
   ]
  },
  {
   "cell_type": "code",
   "execution_count": 11,
   "id": "2b56c998-e896-4974-9f49-7b1208758258",
   "metadata": {
    "executionCancelledAt": null,
    "executionTime": 20,
    "lastExecutedAt": 1733941862679,
    "lastExecutedByKernel": "c588e8af-b9da-43a1-8eb6-1c588e045216",
    "lastScheduledRunId": null,
    "lastSuccessfullyExecutedCode": "# Since there are differences in capitalization, making capitalization consistent\nlistings['room_type'] = listings['room_type'].str.lower()\nprivate_room_count = listings[listings['room_type'] == 'private room'].shape[0]"
   },
   "outputs": [],
   "source": [
    "# Since there are differences in capitalization, making capitalization consistent\n",
    "listings['room_type'] = listings['room_type'].str.lower()\n",
    "private_room_count = listings[listings['room_type'] == 'private room'].shape[0]"
   ]
  },
  {
   "cell_type": "code",
   "execution_count": 13,
   "id": "d6242d44-30ff-4835-a442-7d4b9dacd250",
   "metadata": {
    "executionCancelledAt": null,
    "executionTime": 49,
    "lastExecutedAt": 1733942112057,
    "lastExecutedByKernel": "c588e8af-b9da-43a1-8eb6-1c588e045216",
    "lastScheduledRunId": null,
    "lastSuccessfullyExecutedCode": "print(f\"The number of 'private room' listings is: {private_room_count}\")",
    "outputsMetadata": {
     "0": {
      "height": 38,
      "type": "stream"
     }
    }
   },
   "outputs": [
    {
     "name": "stdout",
     "output_type": "stream",
     "text": [
      "The number of 'private room' listings is: 11356\n"
     ]
    }
   ],
   "source": [
    "print(f\"The number of 'private room' listings is: {private_room_count}\")"
   ]
  },
  {
   "cell_type": "markdown",
   "id": "ec05b21e-acf8-43c2-91b4-12875424d26f",
   "metadata": {},
   "source": [
    "# What is the average listing price?"
   ]
  },
  {
   "cell_type": "code",
   "execution_count": 15,
   "id": "969ec359-d623-40de-8a87-0472f5ae4697",
   "metadata": {
    "executionCancelledAt": null,
    "executionTime": 26,
    "lastExecutedAt": 1733942287813,
    "lastExecutedByKernel": "c588e8af-b9da-43a1-8eb6-1c588e045216",
    "lastScheduledRunId": null,
    "lastSuccessfullyExecutedCode": "# To convert price to numeric, remove \" dollars\" from each value\nlistings['price_clean'] = listings['price'].str.replace(' dollars', '').astype(float)\navg_price = listings['price_clean'].mean()\navg_price"
   },
   "outputs": [
    {
     "data": {
      "text/plain": [
       "141.7779364512674"
      ]
     },
     "execution_count": 15,
     "metadata": {},
     "output_type": "execute_result"
    }
   ],
   "source": [
    "# To convert price to numeric, remove \" dollars\" from each value\n",
    "listings['price_clean'] = listings['price'].str.replace(' dollars', '').astype(float)\n",
    "avg_price = listings['price_clean'].mean()\n",
    "avg_price"
   ]
  },
  {
   "cell_type": "code",
   "execution_count": 17,
   "id": "4cebcd1c-33c2-4a00-afbf-f6ab2e39ac02",
   "metadata": {
    "executionCancelledAt": null,
    "executionTime": 49,
    "lastExecutedAt": 1733942369436,
    "lastExecutedByKernel": "c588e8af-b9da-43a1-8eb6-1c588e045216",
    "lastScheduledRunId": null,
    "lastSuccessfullyExecutedCode": "review_dates = pd.DataFrame({\n    'first_reviewed': [first_reviewed],\n    'last_reviewed': [last_reviewed],\n    'nb_private_rooms': [private_room_count],\n    'avg_price': [round(avg_price, 2)]\n})"
   },
   "outputs": [],
   "source": [
    "review_dates = pd.DataFrame({\n",
    "    'first_reviewed': [first_reviewed],\n",
    "    'last_reviewed': [last_reviewed],\n",
    "    'nb_private_rooms': [private_room_count],\n",
    "    'avg_price': [round(avg_price, 2)]\n",
    "})"
   ]
  },
  {
   "cell_type": "code",
   "execution_count": 19,
   "id": "ceb5bc05-0e40-414c-b941-4f043604dc3b",
   "metadata": {
    "executionCancelledAt": null,
    "executionTime": null,
    "lastExecutedAt": null,
    "lastExecutedByKernel": null,
    "lastScheduledRunId": null,
    "lastSuccessfullyExecutedCode": null,
    "outputsMetadata": {
     "0": {
      "height": 50,
      "tableState": {
       "customFilter": {
        "const": {
         "type": "boolean",
         "valid": true,
         "value": true
        },
        "id": "9b45b529-06d8-40b3-8c02-720b7bbf972d",
        "nodeType": "const"
       },
       "quickFilterText": ""
      },
      "type": "dataFrame"
     }
    }
   },
   "outputs": [
    {
     "data": {
      "application/com.datacamp.data-table.v2+json": {
       "table": {
        "data": {
         "avg_price": [
          141.78
         ],
         "first_reviewed": [
          "2019-01-01T00:00:00.000"
         ],
         "index": [
          0
         ],
         "last_reviewed": [
          "2019-07-09T00:00:00.000"
         ],
         "nb_private_rooms": [
          11356
         ]
        },
        "schema": {
         "fields": [
          {
           "name": "index",
           "type": "integer"
          },
          {
           "name": "first_reviewed",
           "type": "datetime"
          },
          {
           "name": "last_reviewed",
           "type": "datetime"
          },
          {
           "name": "nb_private_rooms",
           "type": "integer"
          },
          {
           "name": "avg_price",
           "type": "number"
          }
         ],
         "pandas_version": "1.4.0",
         "primaryKey": [
          "index"
         ]
        }
       },
       "total_rows": 1,
       "truncation_type": null
      },
      "text/html": [
       "<div>\n",
       "<style scoped>\n",
       "    .dataframe tbody tr th:only-of-type {\n",
       "        vertical-align: middle;\n",
       "    }\n",
       "\n",
       "    .dataframe tbody tr th {\n",
       "        vertical-align: top;\n",
       "    }\n",
       "\n",
       "    .dataframe thead th {\n",
       "        text-align: right;\n",
       "    }\n",
       "</style>\n",
       "<table border=\"1\" class=\"dataframe\">\n",
       "  <thead>\n",
       "    <tr style=\"text-align: right;\">\n",
       "      <th></th>\n",
       "      <th>first_reviewed</th>\n",
       "      <th>last_reviewed</th>\n",
       "      <th>nb_private_rooms</th>\n",
       "      <th>avg_price</th>\n",
       "    </tr>\n",
       "  </thead>\n",
       "  <tbody>\n",
       "    <tr>\n",
       "      <th>0</th>\n",
       "      <td>2019-01-01</td>\n",
       "      <td>2019-07-09</td>\n",
       "      <td>11356</td>\n",
       "      <td>141.78</td>\n",
       "    </tr>\n",
       "  </tbody>\n",
       "</table>\n",
       "</div>"
      ],
      "text/plain": [
       "  first_reviewed last_reviewed  nb_private_rooms  avg_price\n",
       "0     2019-01-01    2019-07-09             11356     141.78"
      ]
     },
     "execution_count": 19,
     "metadata": {},
     "output_type": "execute_result"
    }
   ],
   "source": [
    "review_dates"
   ]
  }
 ],
 "metadata": {
  "colab": {
   "name": "Welcome to DataCamp Workspaces.ipynb",
   "provenance": []
  },
  "editor": "DataLab",
  "kernelspec": {
   "display_name": "Python 3 (ipykernel)",
   "language": "python",
   "name": "python3"
  },
  "language_info": {
   "codemirror_mode": {
    "name": "ipython",
    "version": 3
   },
   "file_extension": ".py",
   "mimetype": "text/x-python",
   "name": "python",
   "nbconvert_exporter": "python",
   "pygments_lexer": "ipython3",
   "version": "3.8.10"
  }
 },
 "nbformat": 4,
 "nbformat_minor": 5
}
